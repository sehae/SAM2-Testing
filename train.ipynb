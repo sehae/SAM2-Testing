{
 "cells": [
  {
   "cell_type": "code",
   "id": "initial_id",
   "metadata": {
    "collapsed": true,
    "ExecuteTime": {
     "end_time": "2025-01-03T06:10:03.792486Z",
     "start_time": "2025-01-03T06:10:01.349526Z"
    }
   },
   "source": "!python ./sam2/training/train.py -c \"../sam2/configs/train.yaml\" --use-cluster 0 --num-gpus 1",
   "outputs": [
    {
     "name": "stderr",
     "output_type": "stream",
     "text": [
      "Traceback (most recent call last):\n",
      "  File \"E:\\Big Projects\\SAM2-Testing\\sam2\\training\\train.py\", line 270, in <module>\n",
      "    main(args)\n",
      "  File \"E:\\Big Projects\\SAM2-Testing\\sam2\\training\\train.py\", line 124, in main\n",
      "    cfg = compose(config_name=args.config)\n",
      "          ^^^^^^^^^^^^^^^^^^^^^^^^^^^^^^^^\n",
      "  File \"E:\\Big Projects\\SAM2-Testing\\.venv\\Lib\\site-packages\\hydra\\compose.py\", line 38, in compose\n",
      "    cfg = gh.hydra.compose_config(\n",
      "          ^^^^^^^^^^^^^^^^^^^^^^^^\n",
      "  File \"E:\\Big Projects\\SAM2-Testing\\.venv\\Lib\\site-packages\\hydra\\_internal\\hydra.py\", line 594, in compose_config\n",
      "    cfg = self.config_loader.load_configuration(\n",
      "          ^^^^^^^^^^^^^^^^^^^^^^^^^^^^^^^^^^^^^^\n",
      "  File \"E:\\Big Projects\\SAM2-Testing\\.venv\\Lib\\site-packages\\hydra\\_internal\\config_loader_impl.py\", line 142, in load_configuration\n",
      "    return self._load_configuration_impl(\n",
      "           ^^^^^^^^^^^^^^^^^^^^^^^^^^^^^^\n",
      "  File \"E:\\Big Projects\\SAM2-Testing\\.venv\\Lib\\site-packages\\hydra\\_internal\\config_loader_impl.py\", line 243, in _load_configuration_impl\n",
      "    self.ensure_main_config_source_available()\n",
      "  File \"E:\\Big Projects\\SAM2-Testing\\.venv\\Lib\\site-packages\\hydra\\_internal\\config_loader_impl.py\", line 129, in ensure_main_config_source_available\n",
      "    self._missing_config_error(\n",
      "  File \"E:\\Big Projects\\SAM2-Testing\\.venv\\Lib\\site-packages\\hydra\\_internal\\config_loader_impl.py\", line 102, in _missing_config_error\n",
      "    raise MissingConfigException(\n",
      "hydra.errors.MissingConfigException: Primary config module 'sam2' not found.\n",
      "Check that it's correct and contains an __init__.py file\n"
     ]
    }
   ],
   "execution_count": 8
  }
 ],
 "metadata": {
  "kernelspec": {
   "display_name": "Python 3",
   "language": "python",
   "name": "python3"
  },
  "language_info": {
   "codemirror_mode": {
    "name": "ipython",
    "version": 2
   },
   "file_extension": ".py",
   "mimetype": "text/x-python",
   "name": "python",
   "nbconvert_exporter": "python",
   "pygments_lexer": "ipython2",
   "version": "2.7.6"
  }
 },
 "nbformat": 4,
 "nbformat_minor": 5
}
